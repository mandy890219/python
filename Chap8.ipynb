{
 "cells": [
  {
   "cell_type": "markdown",
   "metadata": {},
   "source": [
    "## 函數"
   ]
  },
  {
   "cell_type": "markdown",
   "metadata": {},
   "source": [
    "### 傳統的寫法"
   ]
  },
  {
   "cell_type": "code",
   "execution_count": 1,
   "metadata": {},
   "outputs": [
    {
     "name": "stdout",
     "output_type": "stream",
     "text": [
      "請輸入圓的半徑:10\n",
      "圓的面積為 314.1592653589793\n"
     ]
    }
   ],
   "source": [
    "import math\n",
    "radius = int(input(\"請輸入圓的半徑:\"))\n",
    "print(\"圓的面積為\",radius*radius*math.pi)"
   ]
  },
  {
   "cell_type": "markdown",
   "metadata": {},
   "source": [
    "### 面積計算函數"
   ]
  },
  {
   "cell_type": "code",
   "execution_count": 3,
   "metadata": {},
   "outputs": [
    {
     "name": "stdout",
     "output_type": "stream",
     "text": [
      "314.1592653589793\n"
     ]
    }
   ],
   "source": [
    "#自訂函數\n",
    "import math\n",
    "def circle_area(radius):\n",
    "    area=math.pi*radius*radius\n",
    "    return area\n",
    "\n",
    "#呼叫自訂函數\n",
    "print(circle_area(10))"
   ]
  },
  {
   "cell_type": "markdown",
   "metadata": {},
   "source": [
    "## 函數多型"
   ]
  },
  {
   "cell_type": "code",
   "execution_count": 4,
   "metadata": {},
   "outputs": [
    {
     "name": "stdout",
     "output_type": "stream",
     "text": [
      "314.1592653589793\n",
      "62.83185307179586\n"
     ]
    }
   ],
   "source": [
    "#定義一個可以計算面積，以及周長的函數\n",
    "import math\n",
    "def circle(radius,area = True):\n",
    "    circle_area = math.pi * radius * radius\n",
    "    circle_circum=2*radius*math.pi\n",
    "    if area == True:\n",
    "        return circle_area\n",
    "    else:\n",
    "        return circle_circum\n",
    "    \n",
    "#呼叫函數\n",
    "print(circle(10))        #傳回圓面積\n",
    "print(circle(10,False))  #傳回周長\n",
    "    "
   ]
  },
  {
   "cell_type": "markdown",
   "metadata": {},
   "source": [
    "### 交換排序法(Exchange Sort)"
   ]
  },
  {
   "cell_type": "code",
   "execution_count": 17,
   "metadata": {},
   "outputs": [
    {
     "name": "stdout",
     "output_type": "stream",
     "text": [
      "[40, 90, 82, 89, 78, 20, 97, 51, 30, 43]\n",
      "[20, 30, 40, 43, 51, 78, 82, 89, 90, 97]\n"
     ]
    }
   ],
   "source": [
    "import random\n",
    "def exchange_sort(input_list):\n",
    "    s = input_list\n",
    "    for x in range(0, len(s)-1):\n",
    "        for y in range(x+1, len(s)):\n",
    "            if s[x] > s[y]:\n",
    "                #交換2數\n",
    "                temp=s[x]\n",
    "                s[x] = s[y]\n",
    "                s[y] = temp\n",
    "    return s\n",
    "\n",
    "my_vector = random.sample(range(0,100),10)  # 產生10個0~99的隨機數字\n",
    "print(my_vector)\n",
    "print(exchange_sort(my_vector))"
   ]
  },
  {
   "cell_type": "markdown",
   "metadata": {},
   "source": [
    "### 函數多回傳值"
   ]
  },
  {
   "cell_type": "code",
   "execution_count": 20,
   "metadata": {},
   "outputs": [
    {
     "name": "stdout",
     "output_type": "stream",
     "text": [
      "最多: 58 人\n",
      " 最少 9 人\n",
      " 總共分組: 6 組\n",
      " 總共鐵人: 147 人\n",
      "\n"
     ]
    }
   ],
   "source": [
    "def ironmen_stats(ironmen_list):\n",
    "    max_ironmen = max(ironmen_list)\n",
    "    min_ironmen = min(ironmen_list)\n",
    "    len_ironmen = len(ironmen_list)\n",
    "    sum_ironmen = sum(ironmen_list)\n",
    "    return max_ironmen,min_ironmen,len_ironmen,sum_ironmen\n",
    "\n",
    "ironmen = [58,10,21,17,32,9]\n",
    "max_ironmen,min_ironmen,ttl_groups,ttl_ironmen = ironmen_stats(ironmen)\n",
    "print(\"最多:\",max_ironmen,\"人\\n\",\"最少\",min_ironmen,\"人\\n\",\"總共分組:\",ttl_groups,\"組\\n\",\"總共鐵人:\",ttl_ironmen,\"人\\n\")"
   ]
  },
  {
   "cell_type": "code",
   "execution_count": null,
   "metadata": {},
   "outputs": [],
   "source": []
  }
 ],
 "metadata": {
  "kernelspec": {
   "display_name": "Python 3",
   "language": "python",
   "name": "python3"
  },
  "language_info": {
   "codemirror_mode": {
    "name": "ipython",
    "version": 3
   },
   "file_extension": ".py",
   "mimetype": "text/x-python",
   "name": "python",
   "nbconvert_exporter": "python",
   "pygments_lexer": "ipython3",
   "version": "3.7.4"
  }
 },
 "nbformat": 4,
 "nbformat_minor": 2
}
